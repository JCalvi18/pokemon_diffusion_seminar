{
 "cells": [
  {
   "cell_type": "code",
   "execution_count": null,
   "metadata": {},
   "outputs": [],
   "source": [
    "import torch\n",
    "from model import Model\n",
    "from plot_utils import plot_forward, plot_dataset, plot_color_distribution, generate_forward, animate\n",
    "from notebook_utils import Args\n",
    "from dataset import prepare_data\n",
    "import matplotlib.pyplot as plt\n",
    "import numpy as np\n",
    "from torchvision import transforms\n",
    "import seaborn as sns\n"
   ]
  },
  {
   "cell_type": "code",
   "execution_count": null,
   "metadata": {},
   "outputs": [],
   "source": [
    "args = Args(timesteps=100, batch=4, unet_version=0, scale_down=True)\n",
    "device = \"cuda:0\" if torch.cuda.is_available () else 'cpu'"
   ]
  },
  {
   "cell_type": "code",
   "execution_count": null,
   "metadata": {},
   "outputs": [],
   "source": [
    "train_dataloader, dataset = prepare_data (args.dataset_path, args.batch,resize=args.scale_down, return_dataset=True)\n",
    "model = Model (None, args.timesteps)"
   ]
  },
  {
   "cell_type": "code",
   "execution_count": null,
   "metadata": {},
   "outputs": [],
   "source": [
    "plot_dataset(dataset)"
   ]
  },
  {
   "cell_type": "code",
   "execution_count": null,
   "metadata": {},
   "outputs": [],
   "source": [
    "timesteps = torch.linspace (10, 90, 9).long ()\n",
    "forward = generate_forward(model, train_dataloader,timesteps)\n",
    "plot_forward(forward)"
   ]
  },
  {
   "cell_type": "code",
   "execution_count": null,
   "metadata": {},
   "outputs": [],
   "source": [
    "timesteps = torch.arange(100).long ()\n",
    "forward = generate_forward(model, train_dataloader,timesteps)\n",
    "animate(forward)"
   ]
  },
  {
   "attachments": {},
   "cell_type": "markdown",
   "metadata": {},
   "source": [
    "![SegmentLocal](forward_animate.gif \"segment\")"
   ]
  },
  {
   "cell_type": "code",
   "execution_count": null,
   "metadata": {},
   "outputs": [],
   "source": [
    "plot_color_distribution(args, model, dataset, train_dataloader,device, forward=False)"
   ]
  },
  {
   "cell_type": "code",
   "execution_count": null,
   "metadata": {},
   "outputs": [],
   "source": [
    "plot_color_distribution(args, model, dataset, train_dataloader,device, forward=True)"
   ]
  },
  {
   "cell_type": "code",
   "execution_count": null,
   "metadata": {},
   "outputs": [],
   "source": []
  }
 ],
 "metadata": {
  "kernelspec": {
   "display_name": "diffusion",
   "language": "python",
   "name": "python3"
  },
  "language_info": {
   "codemirror_mode": {
    "name": "ipython",
    "version": 3
   },
   "file_extension": ".py",
   "mimetype": "text/x-python",
   "name": "python",
   "nbconvert_exporter": "python",
   "pygments_lexer": "ipython3",
   "version": "3.10.10"
  },
  "orig_nbformat": 4,
  "vscode": {
   "interpreter": {
    "hash": "36ea5d2c7155bd06a77048aae22e6ffa9199af1447bb46b01ff377f162576315"
   }
  }
 },
 "nbformat": 4,
 "nbformat_minor": 2
}
